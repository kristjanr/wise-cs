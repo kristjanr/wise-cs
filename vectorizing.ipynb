{
 "cells": [
  {
   "cell_type": "markdown",
   "source": [
    "TODO:\n",
    "Embed all the articles and save the embeddings next to the article text.\n",
    "\n",
    "\n",
    "\n",
    "Details:\n",
    "Each of the 6 sections has a short heading and a bit longer title : 6 section (title+heading) embeddings.\n",
    "\n",
    "Each section has multiple subsections. Each subsection has a heading: one embedding for each subsection (section title + section heading + subsection heading and all article titles in this subsection)\n",
    "\n",
    "Each subsection has multiple articles. Each article has a title, content, link and links to related articles.\n",
    "\n",
    "One embedding for each article. Include section title + section heading + subsection heading + article title + article content. (NB article title and section heading is already added to markdown\n",
    "file.)\n",
    "\n",
    "\n"
   ],
   "metadata": {
    "collapsed": false
   }
  },
  {
   "cell_type": "code",
   "execution_count": null,
   "outputs": [],
   "source": [
    "import openai\n",
    "# openai.api_key = ''"
   ],
   "metadata": {
    "collapsed": false
   }
  },
  {
   "cell_type": "code",
   "execution_count": 37,
   "outputs": [],
   "source": [
    "EMBEDDING_MODEL = \"text-embedding-ada-002\"\n",
    "\n",
    "def get_embedding(text: str, model: str=EMBEDDING_MODEL) -> list[float]:\n",
    "    result = openai.Embedding.create(\n",
    "        model=model,\n",
    "        input=text\n",
    "    )\n",
    "    return result[\"data\"][0][\"embedding\"]"
   ],
   "metadata": {
    "collapsed": false,
    "ExecuteTime": {
     "start_time": "2023-05-14T22:59:52.214632Z",
     "end_time": "2023-05-14T22:59:52.217717Z"
    }
   }
  },
  {
   "cell_type": "code",
   "execution_count": 38,
   "outputs": [],
   "source": [
    "import json\n",
    "with open(\"scraped-data/index.json\", \"r\") as f:\n",
    "    data = json.load(f)"
   ],
   "metadata": {
    "collapsed": false,
    "ExecuteTime": {
     "start_time": "2023-05-14T22:59:53.680718Z",
     "end_time": "2023-05-14T22:59:53.689201Z"
    }
   }
  },
  {
   "cell_type": "code",
   "execution_count": 39,
   "outputs": [],
   "source": [
    "import numpy as np\n",
    "\n",
    "section_title_heading_embeddings = []\n",
    "for section in data:\n",
    "    section_title_heading_embeddings.append(get_embedding(section[\"title\"] + section[\"heading\"]))\n",
    "\n",
    "with open('embeddings/section_title_heading_embeddings.npy', 'wb') as f:\n",
    "    np.save(f, np.array(section_title_heading_embeddings))"
   ],
   "metadata": {
    "collapsed": false,
    "ExecuteTime": {
     "start_time": "2023-05-14T22:59:54.031118Z",
     "end_time": "2023-05-14T22:59:55.272809Z"
    }
   }
  },
  {
   "cell_type": "code",
   "execution_count": 41,
   "outputs": [],
   "source": [
    "subsection_embeddings = []\n",
    "\n",
    "for section in data:\n",
    "    for subsection in section[\"subsections\"]:\n",
    "        article_titles = [article[\"title\"] for article in subsection[\"articles\"]]\n",
    "        items = [section[\"title\"], section[\"heading\"], subsection[\"heading\"], '\\n'.join(article_titles)]\n",
    "        content = '\\n\\n'.join(items)\n",
    "        subsection_embeddings.append(get_embedding(content))\n",
    "\n",
    "with open('embeddings/subsection_embeddings.npy', 'wb') as f:\n",
    "    np.save(f, np.array(subsection_embeddings))"
   ],
   "metadata": {
    "collapsed": false,
    "ExecuteTime": {
     "start_time": "2023-05-14T23:00:33.964830Z",
     "end_time": "2023-05-14T23:00:33.968248Z"
    }
   }
  },
  {
   "cell_type": "code",
   "execution_count": 42,
   "outputs": [],
   "source": [
    "article_embeddings = []\n",
    "\n",
    "for section in data:\n",
    "    for subsection in section[\"subsections\"]:\n",
    "        for article in subsection[\"articles\"]:\n",
    "            with open(article['folder_path'] + '/content.md', 'r') as f:\n",
    "                article_md = f.read()\n",
    "            items = [section[\"title\"], section[\"heading\"], article_md]\n",
    "            content = '\\n\\n'.join(items)\n",
    "            article_embedding = get_embedding(content)\n",
    "            article_embeddings.append(article_embedding)\n",
    "\n",
    "with open('embeddings/article_embeddings.npy', 'wb') as f:\n",
    "    np.save(f, np.array(article_embeddings))"
   ],
   "metadata": {
    "collapsed": false,
    "ExecuteTime": {
     "start_time": "2023-05-14T23:01:37.007776Z",
     "end_time": "2023-05-14T23:03:21.359533Z"
    }
   }
  },
  {
   "cell_type": "code",
   "execution_count": null,
   "outputs": [],
   "source": [],
   "metadata": {
    "collapsed": false
   }
  }
 ],
 "metadata": {
  "kernelspec": {
   "name": "notebooks",
   "language": "python",
   "display_name": "notebooks"
  },
  "language_info": {
   "codemirror_mode": {
    "name": "ipython",
    "version": 2
   },
   "file_extension": ".py",
   "mimetype": "text/x-python",
   "name": "python",
   "nbconvert_exporter": "python",
   "pygments_lexer": "ipython2",
   "version": "2.7.6"
  }
 },
 "nbformat": 4,
 "nbformat_minor": 0
}
