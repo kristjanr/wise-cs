{
 "cells": [
  {
   "cell_type": "code",
   "execution_count": 6,
   "metadata": {
    "ExecuteTime": {
     "end_time": "2023-06-26T00:15:59.550587Z",
     "start_time": "2023-06-26T00:15:59.053467Z"
    },
    "collapsed": true
   },
   "outputs": [],
   "source": [
    "EMBEDDING_MODEL = \"text-embedding-ada-002\"\n",
    "import openai\n",
    "\n",
    "def set_pactum_api_key():\n",
    "    openai.api_key = ''\n",
    "\n",
    "def set_my_api_key():\n",
    "    openai.api_key = ''\n",
    "\n",
    "set_pactum_api_key()\n",
    "\n",
    "\n",
    "def get_embedding(text: str, model: str=EMBEDDING_MODEL) -> list[float]:\n",
    "    result = openai.Embedding.create(\n",
    "        model=model,\n",
    "        input=text\n",
    "    )\n",
    "    return result[\"data\"][0][\"embedding\"]\n"
   ]
  },
  {
   "cell_type": "code",
   "execution_count": 9,
   "metadata": {
    "ExecuteTime": {
     "end_time": "2023-06-26T00:17:29.731625Z",
     "start_time": "2023-06-26T00:17:27.849361Z"
    },
    "collapsed": false
   },
   "outputs": [
    {
     "data": {
      "text/plain": [
       "133"
      ]
     },
     "execution_count": 9,
     "metadata": {},
     "output_type": "execute_result"
    }
   ],
   "source": [
    "from psycopg2 import extras\n",
    "import os\n",
    "from typing import List\n",
    "import psycopg2\n",
    "import urllib\n",
    "from dotenv import load_dotenv\n",
    "load_dotenv()\n",
    "if 'DATABASE_URL' not in os.environ:\n",
    "    raise Exception('DATABASE_URL environment variable not set')\n",
    "\n",
    "DATABASE_URL = os.environ['DATABASE_URL']\n",
    "\n",
    "class Article:\n",
    "    def __init__(self, id, markdown, md_ada_002_embedding):\n",
    "        self.id = id\n",
    "        self.markdown = markdown\n",
    "        self.md_ada_002_embedding = md_ada_002_embedding\n",
    "\n",
    "\n",
    "def connect(db_url):\n",
    "    url = urllib.parse.urlparse(db_url)\n",
    "    return psycopg2.connect(\n",
    "        host=url.hostname,\n",
    "        database=url.path[1:],\n",
    "        user=url.username,\n",
    "        password=url.password\n",
    "    )\n",
    "\n",
    "def get_articles() -> List[Article]:\n",
    "    with connect(DATABASE_URL) as conn:\n",
    "        with conn.cursor(cursor_factory=extras.DictCursor) as cur:\n",
    "            cur.execute(\"SELECT id, markdown, md_ada_002_embedding FROM article WHERE deleted_at IS NULL\")\n",
    "            rows = cur.fetchall()\n",
    "\n",
    "    articles = [Article(*row) for row in rows]\n",
    "    return [article for article in articles if article.md_ada_002_embedding is None]\n",
    "\n",
    "\n",
    "articles = get_articles()\n",
    "len(articles)"
   ]
  },
  {
   "cell_type": "code",
   "execution_count": 10,
   "metadata": {
    "ExecuteTime": {
     "end_time": "2023-06-26T00:19:27.220994Z",
     "start_time": "2023-06-26T00:17:42.737244Z"
    },
    "collapsed": false
   },
   "outputs": [
    {
     "name": "stderr",
     "output_type": "stream",
     "text": [
      "100%|██████████| 133/133 [01:44<00:00,  1.27it/s]\n"
     ]
    }
   ],
   "source": [
    "from tqdm import tqdm\n",
    "\n",
    "\n",
    "def update_article_embedding(article: Article):\n",
    "    with connect(DATABASE_URL) as conn:\n",
    "        with conn.cursor(cursor_factory=extras.DictCursor) as cur:\n",
    "            cur.execute(\"UPDATE article SET md_ada_002_embedding = %s WHERE id = %s\", (article.md_ada_002_embedding, article.id))\n",
    "        conn.commit()\n",
    "\n",
    "for article in tqdm(articles):\n",
    "    article.md_ada_002_embedding = get_embedding(article.markdown)\n",
    "    update_article_embedding(article)"
   ]
  },
  {
   "cell_type": "code",
   "execution_count": 8,
   "metadata": {
    "ExecuteTime": {
     "end_time": "2023-06-26T00:17:24.033944Z",
     "start_time": "2023-06-26T00:17:24.021239Z"
    },
    "collapsed": false
   },
   "outputs": [
    {
     "data": {
      "text/plain": [
       "213"
      ]
     },
     "execution_count": 8,
     "metadata": {},
     "output_type": "execute_result"
    }
   ],
   "source": [
    "len(articles)"
   ]
  },
  {
   "cell_type": "code",
   "execution_count": null,
   "metadata": {
    "collapsed": false
   },
   "outputs": [],
   "source": []
  }
 ],
 "metadata": {
  "kernelspec": {
   "display_name": "notebooks",
   "language": "python",
   "name": "notebooks"
  },
  "language_info": {
   "codemirror_mode": {
    "name": "ipython",
    "version": 2
   },
   "file_extension": ".py",
   "mimetype": "text/x-python",
   "name": "python",
   "nbconvert_exporter": "python",
   "pygments_lexer": "ipython2",
   "version": "2.7.6"
  }
 },
 "nbformat": 4,
 "nbformat_minor": 0
}
