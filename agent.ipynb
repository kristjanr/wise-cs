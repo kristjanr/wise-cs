{
 "cells": [
  {
   "cell_type": "code",
   "execution_count": 2,
   "outputs": [],
   "source": [
    "# TODO:\n",
    "\n",
    "# 1.\n",
    "# Create a summary for each of the six topics:\n",
    "# For each topic, take the heading, title and all the headings AND titles of the all the articles of the topic's subsections.\n",
    "# Each time a question is asked, ask LLM to provide the topic for the answer.\n",
    "# NB! This costs 2x more than it could\n",
    "\n",
    "# 2.\n",
    "# Take the same from above and embed it so each topic's distance could be calculated for the Question.\n",
    "\n",
    "\n",
    "# 3.\n",
    "# Download the text for the articles and save these in a file. Have python create an automatic file structure.\n",
    "# Embed all the articles and save the embeddings next to the article text.\n"
   ],
   "metadata": {
    "collapsed": false,
    "ExecuteTime": {
     "start_time": "2023-05-14T21:26:31.639374Z",
     "end_time": "2023-05-14T21:26:31.641739Z"
    }
   }
  },
  {
   "cell_type": "code",
   "execution_count": 37,
   "outputs": [],
   "source": [
    "import numpy as np\n",
    "\n",
    "with open('embeddings/subsection_embeddings.npy', 'rb') as f:\n",
    "    subsection_embeddings = np.load(f)\n",
    "\n",
    "with open('embeddings/article_embeddings.npy', 'rb') as f:\n",
    "    article_embeddings = np.load(f)"
   ],
   "metadata": {
    "collapsed": false,
    "ExecuteTime": {
     "start_time": "2023-05-14T23:05:29.920223Z",
     "end_time": "2023-05-14T23:05:29.927971Z"
    }
   }
  },
  {
   "cell_type": "code",
   "execution_count": 80,
   "outputs": [],
   "source": [
    "import openai\n",
    "# openai.api_key = ''"
   ],
   "metadata": {
    "collapsed": false,
    "ExecuteTime": {
     "start_time": "2023-05-15T08:09:39.749909Z",
     "end_time": "2023-05-15T08:09:39.752638Z"
    }
   }
  },
  {
   "cell_type": "code",
   "execution_count": 38,
   "outputs": [],
   "source": [
    "EMBEDDING_MODEL = \"text-embedding-ada-002\"\n",
    "\n",
    "\n",
    "def get_embedding(text: str, model: str = EMBEDDING_MODEL) -> list[float]:\n",
    "    result = openai.Embedding.create(\n",
    "        model=model,\n",
    "        input=text\n",
    "    )\n",
    "    return result[\"data\"][0][\"embedding\"]"
   ],
   "metadata": {
    "collapsed": false,
    "ExecuteTime": {
     "start_time": "2023-05-14T23:05:40.978459Z",
     "end_time": "2023-05-14T23:05:40.984282Z"
    }
   }
  },
  {
   "cell_type": "code",
   "execution_count": 63,
   "outputs": [],
   "source": [
    "question = 'Can I transfer moeny to a business in Ukraine?'\n",
    "question_embedding = get_embedding(question)\n"
   ],
   "metadata": {
    "collapsed": false,
    "ExecuteTime": {
     "start_time": "2023-05-14T23:25:51.155421Z",
     "end_time": "2023-05-14T23:25:51.692035Z"
    }
   }
  },
  {
   "cell_type": "code",
   "execution_count": 76,
   "outputs": [],
   "source": [
    "import json\n",
    "\n",
    "with open(\"scraped-data/index.json\", \"r\") as f:\n",
    "    data = json.load(f)\n",
    "\n",
    "def return_content(article_id):\n",
    "    counter = 0\n",
    "    for section in data:\n",
    "        for subsection in section[\"subsections\"]:\n",
    "            for article in subsection[\"articles\"]:\n",
    "                if counter != article_id:\n",
    "                    counter += 1\n",
    "                    continue\n",
    "                with open(article['folder_path'] + '/content.md', 'r') as f:\n",
    "                    article_md = f.read()\n",
    "                items = [section[\"title\"], section[\"heading\"], article_md]\n",
    "                content = '\\n\\n'.join(items)\n",
    "                return content, 'wise.com' + article['link']\n",
    "\n"
   ],
   "metadata": {
    "collapsed": false,
    "ExecuteTime": {
     "start_time": "2023-05-15T08:00:42.588455Z",
     "end_time": "2023-05-15T08:00:42.594541Z"
    }
   }
  },
  {
   "cell_type": "code",
   "execution_count": 0,
   "outputs": [],
   "source": [
    "import numpy as np\n",
    "\n",
    "# \t$0.002 / 1K tokens\n",
    "# 4,096 tokens = $0.008192\n",
    "\n",
    "def vector_similarity(x: list[float], y: list[float]) -> float:\n",
    "    \"\"\"\n",
    "    Returns the similarity between two vectors.\n",
    "\n",
    "    Because OpenAI Embeddings are normalized to length 1, the cosine similarity is the same as the dot product.\n",
    "    \"\"\"\n",
    "    return np.dot(np.array(x), np.array(y))\n",
    "\n",
    "\n",
    "article_similarities = []\n",
    "\n",
    "for article_nr, article_embedding in enumerate(article_embeddings):\n",
    "    similarity = vector_similarity(question_embedding, article_embedding)\n",
    "    article_similarities.append((similarity, article_nr))\n",
    "\n",
    "article_similarities = sorted(article_similarities, reverse=True)\n"
   ],
   "metadata": {
    "collapsed": false,
    "ExecuteTime": {
     "start_time": "2023-05-15T08:00:43.033434Z",
     "end_time": "2023-05-15T08:00:43.050745Z"
    }
   }
  },
  {
   "cell_type": "code",
   "execution_count": 89,
   "outputs": [
    {
     "data": {
      "text/plain": "4"
     },
     "execution_count": 89,
     "metadata": {},
     "output_type": "execute_result"
    }
   ],
   "source": [
    "import tiktoken\n",
    "MODEL = \"gpt-3.5-turbo\"\n",
    "tokenizer = tiktoken.encoding_for_model(MODEL)\n",
    "\n",
    "articles = [return_content(article_similarities[i][1]) for i in range(5)]\n",
    "\n",
    "top_five_similar_articles = {url: dict(content=md, tokens=len(tokenizer.encode(md))) for md, url in articles}\n",
    "\n",
    "token_count = 0\n",
    "articles_up_to_2000_tokens = {}\n",
    "for url, article in top_five_similar_articles.items():\n",
    "    if token_count + article['tokens'] < 2000:\n",
    "        token_count += article['tokens']\n",
    "        articles_up_to_2000_tokens[url] = article\n",
    "    else:\n",
    "        break\n",
    "\n",
    "len(articles_up_to_2000_tokens)"
   ],
   "metadata": {
    "collapsed": false,
    "ExecuteTime": {
     "start_time": "2023-05-15T08:32:54.589022Z",
     "end_time": "2023-05-15T08:32:54.597830Z"
    }
   }
  },
  {
   "cell_type": "code",
   "execution_count": 90,
   "outputs": [],
   "source": [
    "md = '\\n\\n'.join([article['content'] for article in articles_up_to_2000_tokens.values()])"
   ],
   "metadata": {
    "collapsed": false,
    "ExecuteTime": {
     "start_time": "2023-05-15T08:34:17.217552Z",
     "end_time": "2023-05-15T08:34:17.224076Z"
    }
   }
  },
  {
   "cell_type": "code",
   "execution_count": 91,
   "outputs": [],
   "source": [
    "prompt = '''\n",
    "You are a customer support agent at Wise, the money transfer company. Your job is to answer the customer by using only the info provided here. You will get a customer's question on one line,\n",
    "with the prefix \"CUSTOMER: \"\n",
    "On the rest of the lines, you will get relevant information to answer the question. It starts with the prefix \"CONTEXT: \".\n",
    "Behave like you are the source of the information, while drawing answers only from the info provided. If your are unable to answer the question using the provided context, say 'I don't know'.\n",
    "'''"
   ],
   "metadata": {
    "collapsed": false,
    "ExecuteTime": {
     "start_time": "2023-05-15T08:34:24.680283Z",
     "end_time": "2023-05-15T08:34:24.688873Z"
    }
   }
  },
  {
   "cell_type": "code",
   "execution_count": 92,
   "outputs": [
    {
     "data": {
      "text/plain": "\"Yes, you can transfer money to a private user of PrivatBank in Ukraine. However, Wise can't make transfers to any businesses in Ukraine.\""
     },
     "execution_count": 92,
     "metadata": {},
     "output_type": "execute_result"
    }
   ],
   "source": [
    "\n",
    "messages = [{\"role\": \"system\", \"content\": prompt}, {\"role\": \"user\", \"content\": 'CUSTOMER:  \\n' + question}, {\"role\": \"system\", \"content\": 'CONTEXT: \\n' + md},]\n",
    "chat = openai.ChatCompletion.create(\n",
    "    model=MODEL,\n",
    "    messages=messages\n",
    ")\n",
    "reply = chat.choices[0].message.content\n",
    "\n",
    "reply"
   ],
   "metadata": {
    "collapsed": false,
    "ExecuteTime": {
     "start_time": "2023-05-15T08:34:25.380318Z",
     "end_time": "2023-05-15T08:34:28.980767Z"
    }
   }
  },
  {
   "cell_type": "code",
   "execution_count": 93,
   "outputs": [
    {
     "data": {
      "text/plain": "'Yes, you can transfer money to a business that is registered in Turkey. Wise allows bank transfers from Turkey only for registered businesses.'"
     },
     "execution_count": 93,
     "metadata": {},
     "output_type": "execute_result"
    }
   ],
   "source": [
    "messages.append({\"role\" : \"assistant\", \"content\": reply})\n",
    "messages.append({\"role\": \"user\", \"content\": 'CUSTOMER:  \\n' + 'How about Turkey?'})\n",
    "\n",
    "chat = openai.ChatCompletion.create(\n",
    "    model=MODEL,\n",
    "    messages=messages\n",
    ")\n",
    "reply = chat.choices[0].message.content\n",
    "\n",
    "reply"
   ],
   "metadata": {
    "collapsed": false,
    "ExecuteTime": {
     "start_time": "2023-05-15T08:34:38.474879Z",
     "end_time": "2023-05-15T08:34:41.741088Z"
    }
   }
  },
  {
   "cell_type": "code",
   "execution_count": null,
   "outputs": [],
   "source": [],
   "metadata": {
    "collapsed": false
   }
  }
 ],
 "metadata": {
  "kernelspec": {
   "name": "notebooks",
   "language": "python",
   "display_name": "notebooks"
  },
  "language_info": {
   "codemirror_mode": {
    "name": "ipython",
    "version": 2
   },
   "file_extension": ".py",
   "mimetype": "text/x-python",
   "name": "python",
   "nbconvert_exporter": "python",
   "pygments_lexer": "ipython2",
   "version": "2.7.6"
  }
 },
 "nbformat": 4,
 "nbformat_minor": 0
}
