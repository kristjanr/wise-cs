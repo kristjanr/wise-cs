{
 "cells": [
  {
   "cell_type": "code",
   "execution_count": null,
   "metadata": {
    "collapsed": true
   },
   "outputs": [],
   "source": [
    "prompt = '''\n",
    "You are a customer support agent at Wise, the money transfer company. Your job is to answer the customer by using only the context provided to you here. You will get a customer's question on one line, with the prefix \"CUSTOMER: \"\n",
    "On the rest of the lines, you will get the context which contains relevant information for you to be able to the answer the customer's question.  This context starts with the prefix \"CONTEXT: \".  Own the information provided to you. Do not mention \"as per the information provided\". Act like you yourself are the source of that information, while at the same time still drawing your answers always only from the context provided to you.\n",
    "'''"
   ]
  },
  {
   "cell_type": "code",
   "execution_count": null,
   "outputs": [],
   "source": [
    "# TODO:\n",
    "\n",
    "# 1.\n",
    "# Create a summary for each of the six topics:\n",
    "# For each topic, take the heading, title and all the headings AND titles of the all the articles of the topic's subsections.\n",
    "# Each time a question is asked, ask LLM to provide the topic for the answer.\n",
    "# NB! This costs 2x more than it could\n",
    "\n",
    "# 2.\n",
    "# Take the same from above and embed it so each topic's distance could be calculated for the Question.\n",
    "\n",
    "\n",
    "# 3.\n",
    "# Download the text for the articles and save these in a file. Have python create an automatic file structure.\n",
    "# Embed all the articles and save the embeddings next to the article text.\n"
   ],
   "metadata": {
    "collapsed": false
   }
  }
 ],
 "metadata": {
  "kernelspec": {
   "display_name": "Python 3",
   "language": "python",
   "name": "python3"
  },
  "language_info": {
   "codemirror_mode": {
    "name": "ipython",
    "version": 2
   },
   "file_extension": ".py",
   "mimetype": "text/x-python",
   "name": "python",
   "nbconvert_exporter": "python",
   "pygments_lexer": "ipython2",
   "version": "2.7.6"
  }
 },
 "nbformat": 4,
 "nbformat_minor": 0
}
