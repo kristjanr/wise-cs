{
 "cells": [
  {
   "cell_type": "code",
   "execution_count": 2,
   "outputs": [],
   "source": [
    "# TODO:\n",
    "\n",
    "# 1.\n",
    "# Create a summary for each of the six topics:\n",
    "# For each topic, take the heading, title and all the headings AND titles of the all the articles of the topic's subsections.\n",
    "# Each time a question is asked, ask LLM to provide the topic for the answer.\n",
    "# NB! This costs 2x more than it could\n",
    "\n",
    "# 2.\n",
    "# Take the same from above and embed it so each topic's distance could be calculated for the Question.\n",
    "\n",
    "\n",
    "# 3.\n",
    "# Download the text for the articles and save these in a file. Have python create an automatic file structure.\n",
    "# Embed all the articles and save the embeddings next to the article text.\n"
   ],
   "metadata": {
    "collapsed": false,
    "ExecuteTime": {
     "start_time": "2023-05-14T21:26:31.639374Z",
     "end_time": "2023-05-14T21:26:31.641739Z"
    }
   }
  },
  {
   "cell_type": "code",
   "execution_count": 37,
   "outputs": [],
   "source": [
    "import numpy as np\n",
    "\n",
    "with open('embeddings/subsection_embeddings.npy', 'rb') as f:\n",
    "    subsection_embeddings = np.load(f)\n",
    "\n",
    "with open('embeddings/article_embeddings.npy', 'rb') as f:\n",
    "    article_embeddings = np.load(f)"
   ],
   "metadata": {
    "collapsed": false,
    "ExecuteTime": {
     "start_time": "2023-05-14T23:05:29.920223Z",
     "end_time": "2023-05-14T23:05:29.927971Z"
    }
   }
  },
  {
   "cell_type": "code",
   "execution_count": 9,
   "outputs": [],
   "source": [
    "import openai\n",
    "# openai.api_key = ''"
   ],
   "metadata": {
    "collapsed": false,
    "ExecuteTime": {
     "start_time": "2023-05-14T21:27:25.269910Z",
     "end_time": "2023-05-14T21:27:25.274535Z"
    }
   }
  },
  {
   "cell_type": "code",
   "execution_count": 38,
   "outputs": [],
   "source": [
    "EMBEDDING_MODEL = \"text-embedding-ada-002\"\n",
    "\n",
    "\n",
    "def get_embedding(text: str, model: str = EMBEDDING_MODEL) -> list[float]:\n",
    "    result = openai.Embedding.create(\n",
    "        model=model,\n",
    "        input=text\n",
    "    )\n",
    "    return result[\"data\"][0][\"embedding\"]"
   ],
   "metadata": {
    "collapsed": false,
    "ExecuteTime": {
     "start_time": "2023-05-14T23:05:40.978459Z",
     "end_time": "2023-05-14T23:05:40.984282Z"
    }
   }
  },
  {
   "cell_type": "code",
   "execution_count": 63,
   "outputs": [],
   "source": [
    "question = 'Can I transfer moeny to a business in Ukraine?'\n",
    "question_embedding = get_embedding(question)\n"
   ],
   "metadata": {
    "collapsed": false,
    "ExecuteTime": {
     "start_time": "2023-05-14T23:25:51.155421Z",
     "end_time": "2023-05-14T23:25:51.692035Z"
    }
   }
  },
  {
   "cell_type": "code",
   "execution_count": 64,
   "outputs": [],
   "source": [
    "import json\n",
    "\n",
    "with open(\"scraped-data/index.json\", \"r\") as f:\n",
    "    data = json.load(f)\n",
    "\n",
    "def return_content(article_id):\n",
    "    counter = 0\n",
    "    for section in data:\n",
    "        for subsection in section[\"subsections\"]:\n",
    "            for article in subsection[\"articles\"]:\n",
    "                if counter != 241:\n",
    "                    counter += 1\n",
    "                    continue\n",
    "                with open(article['folder_path'] + '/content.md', 'r') as f:\n",
    "                    article_md = f.read()\n",
    "                items = [section[\"title\"], section[\"heading\"], article_md]\n",
    "                content = '\\n\\n'.join(items)\n",
    "                return content, article['link']\n",
    "\n"
   ],
   "metadata": {
    "collapsed": false,
    "ExecuteTime": {
     "start_time": "2023-05-14T23:25:52.699345Z",
     "end_time": "2023-05-14T23:25:52.707721Z"
    }
   }
  },
  {
   "cell_type": "code",
   "execution_count": 65,
   "outputs": [
    {
     "name": "stdout",
     "output_type": "stream",
     "text": [
      "wise.com/help/articles/2570950/are-there-any-restrictions-on-business-transfers\n"
     ]
    },
    {
     "data": {
      "text/plain": "241"
     },
     "execution_count": 65,
     "metadata": {},
     "output_type": "execute_result"
    }
   ],
   "source": [
    "import numpy as np\n",
    "\n",
    "\n",
    "def vector_similarity(x: list[float], y: list[float]) -> float:\n",
    "    \"\"\"\n",
    "    Returns the similarity between two vectors.\n",
    "\n",
    "    Because OpenAI Embeddings are normalized to length 1, the cosine similarity is the same as the dot product.\n",
    "    \"\"\"\n",
    "    return np.dot(np.array(x), np.array(y))\n",
    "\n",
    "\n",
    "article_similarities = []\n",
    "\n",
    "for i, article_embedding in enumerate(article_embeddings):\n",
    "    article_similarities.append((vector_similarity(question_embedding, article_embedding), i))\n",
    "\n",
    "article_similarities = sorted(article_similarities, reverse=True)\n",
    "\n",
    "md, url = return_content(article_similarities[0][1])\n",
    "\n",
    "print('wise.com' + url)\n",
    "\n",
    "article_similarities[0][1]"
   ],
   "metadata": {
    "collapsed": false,
    "ExecuteTime": {
     "start_time": "2023-05-14T23:25:53.906720Z",
     "end_time": "2023-05-14T23:25:53.934571Z"
    }
   }
  },
  {
   "cell_type": "code",
   "execution_count": 66,
   "outputs": [
    {
     "data": {
      "text/plain": "'Multi-user access, accounting and using our API.\\n\\nWise Business\\n\\n# Wise Business basics  \\n## Are there any restrictions on business transfers?  \\nWise is licensed to make personal transfers in all the countries we operate in. However in some cases, business transfers are slightly more limited. There are some currency routes which we can’t support business transfers to or from due to the way we’re regulated in those countries.\\n\\nFor the majority of our supported currencies there are no restrictions on Wise receiving money from your business. \\n\\nLearn more about each currency and their limitations by searching for \"Guide to [currency]\".\\n\\n### Currencies with business limitations\\n\\n\\n--- CSV table begins ---  \\nCurrency,Sending account can be a business,Recipient account can be a business,Additional note  \\nAUD,Yes,Yes,See the business types we can support for Australia\\xa0here.  \\nBDT,No,No,Both the sender and the recipient of a transfer to BDT must be a privately owned account of an individual.  \\nBRL,Yes,No,\"The originating currency can arrive to us from a business or personal account, but we can\\'t pay out BRL to any businesses.\"  \\nCNY,Yes,Yes,Businesses in China can\\'t receive CNY from AED and TRY  \\nCOP,Yes,No,\"The originating currency can arrive to us from a business or personal account, however we cannot make transfers to any businesses in Colombia\"  \\nIDR,No,Yes,\"Individuals can send IDR to businesses, but businesses can\\'t send IDR. Sole traders can create a account and send IDR, but the sender name would be the name on the personal account.\"  \\nINR,No,Yes,\"You can send a maximum of 1,500,000 INR in total per day to business recipients in India.\"  \\nJPY,Yes,Yes,We can send transfers from JPY to a business bank account. We can only accept business deposits once personal and business verification are both completed.  \\nMYR,No,Yes,\"Individuals can send MYR to businesses, but businesses can\\'t send MYR.\"  \\nNPR,Yes,No,\"The originating currency can arrive to us from a business or personal account, however we cannot make transfers to any businesses in Nepal.\"  \\nNZD,Yes,Yes,Excluding trusts. See the business types we can support for New Zealand here.  \\nPKR,No,No,Both the sender and the recipient of a transfer to PKR must be a privately owned account of an individual.  \\nTRY,Yes,Yes,Only businesses that are registered in Turkey can make bank transfers from Turkey.  \\nTZS,No,No,Both the sender and the recipient of a transfer to TZS must be a privately owned account of an individual.  \\nUAH,Yes,No,\"Wise can only make transfers to private users of PrivatBank in Ukraine. The originating currency can arrive to us from a business or personal account, however we can\\'t make transfers to any businesses in Ukraine.\"  \\nUSD,Yes,Yes,See the business types we can support for the US.  \\nVND,Yes,No,\"The originating currency can arrive to us from a business or personal account, however we cannot make transfers to any businesses in Vietnam.\"  \\n--- CSV table ends ---  \\n\\n\\n### Currencies without business limitations\\n\\n  * AED\\n\\n  * BGN\\n\\n  * CAD\\n\\n  * CHF\\n\\n  * CZK\\n\\n  * DKK\\n\\n  * EUR\\n\\n  * GBP\\n\\n  * GEL \\n\\n  * HKD\\n\\n  * HUF\\n\\n  * KRW\\n\\n  * LKR\\n\\n  * MAD\\n\\n  * MXN\\n\\n  * NOK\\n\\n  * PHP\\n\\n  * PLN\\n\\n  * RON\\n\\n  * SEK\\n\\n  * SGD\\n\\n  * THB\\n\\n  * ZAR'"
     },
     "execution_count": 66,
     "metadata": {},
     "output_type": "execute_result"
    }
   ],
   "source": [
    "md"
   ],
   "metadata": {
    "collapsed": false,
    "ExecuteTime": {
     "start_time": "2023-05-14T23:25:56.207650Z",
     "end_time": "2023-05-14T23:25:56.214885Z"
    }
   }
  },
  {
   "cell_type": "code",
   "execution_count": 67,
   "outputs": [],
   "source": [
    "prompt = '''\n",
    "You are a customer support agent at Wise, the money transfer company. Your job is to answer the customer by using only the info provided here. You will get a customer's question on one line,\n",
    "with the prefix \"CUSTOMER: \"\n",
    "On the rest of the lines, you will get relevant information to answer the question. It starts with the prefix \"CONTEXT: \".\n",
    "Behave like you are the source of the information, while drawing answers only from the info provided. If your are unable to answer the question using the provided context, say 'I don't know'.\n",
    "'''"
   ],
   "metadata": {
    "collapsed": false,
    "ExecuteTime": {
     "start_time": "2023-05-14T23:25:57.538617Z",
     "end_time": "2023-05-14T23:25:57.546273Z"
    }
   }
  },
  {
   "cell_type": "code",
   "execution_count": 68,
   "outputs": [
    {
     "data": {
      "text/plain": "\"Wise can only make transfers to private users of PrivatBank in Ukraine. The originating currency can arrive to us from a business or personal account, however we can't make transfers to any businesses in Ukraine.\""
     },
     "execution_count": 68,
     "metadata": {},
     "output_type": "execute_result"
    }
   ],
   "source": [
    "COMPLETIONS_MODEL = \"gpt-3.5-turbo-0301\"\n",
    "\n",
    "messages = [{\"role\": \"system\", \"content\": prompt}, {\"role\": \"user\", \"content\": 'CUSTOMER:  \\n' + question}, {\"role\": \"system\", \"content\": 'CONTEXT: \\n' + md},]\n",
    "chat = openai.ChatCompletion.create(\n",
    "    model=COMPLETIONS_MODEL,\n",
    "    messages=messages\n",
    ")\n",
    "reply = chat.choices[0].message.content\n",
    "\n",
    "reply"
   ],
   "metadata": {
    "collapsed": false,
    "ExecuteTime": {
     "start_time": "2023-05-14T23:25:58.278944Z",
     "end_time": "2023-05-14T23:26:02.247824Z"
    }
   }
  },
  {
   "cell_type": "code",
   "execution_count": 69,
   "outputs": [
    {
     "data": {
      "text/plain": "'Wise can make bank transfers only from businesses that are registered in Turkey. The originating currency can arrive to us from a business or personal account and we can send transfers to both individuals and business bank accounts in Turkey.'"
     },
     "execution_count": 69,
     "metadata": {},
     "output_type": "execute_result"
    }
   ],
   "source": [
    "messages.append({\"role\" : \"assistant\", \"content\":reply})\n",
    "messages.append({\"role\": \"user\", \"content\": 'CUSTOMER:  \\n' + 'How about Turkey?'})\n",
    "\n",
    "chat = openai.ChatCompletion.create(\n",
    "    model=COMPLETIONS_MODEL,\n",
    "    messages=messages\n",
    ")\n",
    "reply = chat.choices[0].message.content\n",
    "\n",
    "reply"
   ],
   "metadata": {
    "collapsed": false,
    "ExecuteTime": {
     "start_time": "2023-05-14T23:26:10.064832Z",
     "end_time": "2023-05-14T23:26:14.229789Z"
    }
   }
  },
  {
   "cell_type": "code",
   "execution_count": null,
   "outputs": [],
   "source": [],
   "metadata": {
    "collapsed": false
   }
  }
 ],
 "metadata": {
  "kernelspec": {
   "name": "notebooks",
   "language": "python",
   "display_name": "notebooks"
  },
  "language_info": {
   "codemirror_mode": {
    "name": "ipython",
    "version": 2
   },
   "file_extension": ".py",
   "mimetype": "text/x-python",
   "name": "python",
   "nbconvert_exporter": "python",
   "pygments_lexer": "ipython2",
   "version": "2.7.6"
  }
 },
 "nbformat": 4,
 "nbformat_minor": 0
}
