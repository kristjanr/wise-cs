{
 "cells": [
  {
   "cell_type": "code",
   "execution_count": 3,
   "metadata": {
    "ExecuteTime": {
     "end_time": "2023-05-15T18:53:38.379728Z",
     "start_time": "2023-05-15T18:53:38.378539Z"
    },
    "collapsed": false
   },
   "outputs": [],
   "source": [
    "# TODO:\n",
    "\n",
    "# 1.\n",
    "# Create a summary for each of the six topics:\n",
    "# For each topic, take the heading, title and all the headings AND titles of the all the articles of the topic's subsections.\n",
    "# Each time a question is asked, ask LLM to provide the topic for the answer.\n",
    "# NB! This costs 2x more than it could\n",
    "\n",
    "# 2.\n",
    "# Take the same from above and embed it so each topic's distance could be calculated for the Question.\n",
    "\n",
    "\n",
    "# 3.\n",
    "# Download the text for the articles and save these in a file. Have python create an automatic file structure.\n",
    "# Embed all the articles and save the embeddings next to the article text.\n"
   ]
  },
  {
   "cell_type": "code",
   "execution_count": 4,
   "metadata": {
    "ExecuteTime": {
     "end_time": "2023-05-15T18:53:38.770999Z",
     "start_time": "2023-05-15T18:53:38.380750Z"
    },
    "collapsed": false
   },
   "outputs": [],
   "source": [
    "import numpy as np\n",
    "\n",
    "with open('embeddings/subsection_embeddings.npy', 'rb') as f:\n",
    "    subsection_embeddings = np.load(f)\n",
    "\n",
    "with open('embeddings/article_embeddings.npy', 'rb') as f:\n",
    "    article_embeddings = np.load(f)"
   ]
  },
  {
   "cell_type": "code",
   "execution_count": 13,
   "metadata": {
    "ExecuteTime": {
     "end_time": "2023-05-15T18:57:29.491926Z",
     "start_time": "2023-05-15T18:57:29.484709Z"
    },
    "collapsed": false
   },
   "outputs": [],
   "source": [
    "import openai\n",
    "# openai.api_key = ''"
   ]
  },
  {
   "cell_type": "code",
   "execution_count": 14,
   "metadata": {
    "ExecuteTime": {
     "end_time": "2023-05-15T18:57:29.694670Z",
     "start_time": "2023-05-15T18:57:29.689247Z"
    },
    "collapsed": false
   },
   "outputs": [],
   "source": [
    "EMBEDDING_MODEL = \"text-embedding-ada-002\"\n",
    "\n",
    "\n",
    "def get_embedding(text: str, model: str = EMBEDDING_MODEL) -> list[float]:\n",
    "    result = openai.Embedding.create(\n",
    "        model=model,\n",
    "        input=text\n",
    "    )\n",
    "    return result[\"data\"][0][\"embedding\"]"
   ]
  },
  {
   "cell_type": "code",
   "execution_count": 15,
   "metadata": {
    "ExecuteTime": {
     "end_time": "2023-05-15T18:57:30.482191Z",
     "start_time": "2023-05-15T18:57:29.827569Z"
    },
    "collapsed": false
   },
   "outputs": [],
   "source": [
    "question = 'Can I transfer moeny to a business in Ukraine?'\n",
    "question_embedding = get_embedding(question)\n"
   ]
  },
  {
   "cell_type": "code",
   "execution_count": 16,
   "metadata": {
    "ExecuteTime": {
     "end_time": "2023-05-15T18:57:30.483897Z",
     "start_time": "2023-05-15T18:57:30.479765Z"
    },
    "collapsed": false
   },
   "outputs": [],
   "source": [
    "import json\n",
    "\n",
    "with open(\"scraped-data/index.json\", \"r\") as f:\n",
    "    data = json.load(f)\n",
    "\n",
    "def return_content(article_id):\n",
    "    counter = 0\n",
    "    for section in data:\n",
    "        for subsection in section[\"subsections\"]:\n",
    "            for article in subsection[\"articles\"]:\n",
    "                if counter != article_id:\n",
    "                    counter += 1\n",
    "                    continue\n",
    "                with open(article['folder_path'] + '/content.md', 'r') as f:\n",
    "                    article_md = f.read()\n",
    "                items = [section[\"title\"], section[\"heading\"], article_md]\n",
    "                content = '\\n\\n'.join(items)\n",
    "                return content, article['link']\n",
    "\n"
   ]
  },
  {
   "cell_type": "code",
   "execution_count": 17,
   "metadata": {
    "ExecuteTime": {
     "end_time": "2023-05-15T18:57:30.516542Z",
     "start_time": "2023-05-15T18:57:30.502384Z"
    },
    "collapsed": false
   },
   "outputs": [],
   "source": [
    "import numpy as np\n",
    "\n",
    "# \t$0.002 / 1K tokens\n",
    "# 4,096 tokens = $0.008192\n",
    "\n",
    "def vector_similarity(x: list[float], y: list[float]) -> float:\n",
    "    \"\"\"\n",
    "    Returns the similarity between two vectors.\n",
    "\n",
    "    Because OpenAI Embeddings are normalized to length 1, the cosine similarity is the same as the dot product.\n",
    "    \"\"\"\n",
    "    return np.dot(np.array(x), np.array(y))\n",
    "\n",
    "\n",
    "article_similarities = []\n",
    "\n",
    "for article_nr, article_embedding in enumerate(article_embeddings):\n",
    "    similarity = vector_similarity(question_embedding, article_embedding)\n",
    "    article_similarities.append((similarity, article_nr))\n",
    "\n",
    "article_similarities = sorted(article_similarities, reverse=True)\n"
   ]
  },
  {
   "cell_type": "code",
   "execution_count": 1,
   "metadata": {
    "ExecuteTime": {
     "end_time": "2023-05-31T21:03:38.016638Z",
     "start_time": "2023-05-31T21:03:37.698506Z"
    },
    "collapsed": false
   },
   "outputs": [
    {
     "ename": "NameError",
     "evalue": "name 'return_content' is not defined",
     "output_type": "error",
     "traceback": [
      "\u001b[0;31m---------------------------------------------------------------------------\u001b[0m",
      "\u001b[0;31mNameError\u001b[0m                                 Traceback (most recent call last)",
      "Cell \u001b[0;32mIn[1], line 5\u001b[0m\n\u001b[1;32m      2\u001b[0m MODEL \u001b[38;5;241m=\u001b[39m \u001b[38;5;124m\"\u001b[39m\u001b[38;5;124mgpt-3.5-turbo\u001b[39m\u001b[38;5;124m\"\u001b[39m\n\u001b[1;32m      3\u001b[0m tokenizer \u001b[38;5;241m=\u001b[39m tiktoken\u001b[38;5;241m.\u001b[39mencoding_for_model(MODEL)\n\u001b[0;32m----> 5\u001b[0m articles \u001b[38;5;241m=\u001b[39m [return_content(article_similarities[i][\u001b[38;5;241m1\u001b[39m]) \u001b[38;5;28;01mfor\u001b[39;00m i \u001b[38;5;129;01min\u001b[39;00m \u001b[38;5;28mrange\u001b[39m(\u001b[38;5;241m5\u001b[39m)]\n\u001b[1;32m      7\u001b[0m top_five_similar_articles \u001b[38;5;241m=\u001b[39m {url: \u001b[38;5;28mdict\u001b[39m(content\u001b[38;5;241m=\u001b[39mmd, tokens\u001b[38;5;241m=\u001b[39m\u001b[38;5;28mlen\u001b[39m(tokenizer\u001b[38;5;241m.\u001b[39mencode(md))) \u001b[38;5;28;01mfor\u001b[39;00m md, url \u001b[38;5;129;01min\u001b[39;00m articles}\n\u001b[1;32m      9\u001b[0m token_count \u001b[38;5;241m=\u001b[39m \u001b[38;5;241m0\u001b[39m\n",
      "Cell \u001b[0;32mIn[1], line 5\u001b[0m, in \u001b[0;36m<listcomp>\u001b[0;34m(.0)\u001b[0m\n\u001b[1;32m      2\u001b[0m MODEL \u001b[38;5;241m=\u001b[39m \u001b[38;5;124m\"\u001b[39m\u001b[38;5;124mgpt-3.5-turbo\u001b[39m\u001b[38;5;124m\"\u001b[39m\n\u001b[1;32m      3\u001b[0m tokenizer \u001b[38;5;241m=\u001b[39m tiktoken\u001b[38;5;241m.\u001b[39mencoding_for_model(MODEL)\n\u001b[0;32m----> 5\u001b[0m articles \u001b[38;5;241m=\u001b[39m [\u001b[43mreturn_content\u001b[49m(article_similarities[i][\u001b[38;5;241m1\u001b[39m]) \u001b[38;5;28;01mfor\u001b[39;00m i \u001b[38;5;129;01min\u001b[39;00m \u001b[38;5;28mrange\u001b[39m(\u001b[38;5;241m5\u001b[39m)]\n\u001b[1;32m      7\u001b[0m top_five_similar_articles \u001b[38;5;241m=\u001b[39m {url: \u001b[38;5;28mdict\u001b[39m(content\u001b[38;5;241m=\u001b[39mmd, tokens\u001b[38;5;241m=\u001b[39m\u001b[38;5;28mlen\u001b[39m(tokenizer\u001b[38;5;241m.\u001b[39mencode(md))) \u001b[38;5;28;01mfor\u001b[39;00m md, url \u001b[38;5;129;01min\u001b[39;00m articles}\n\u001b[1;32m      9\u001b[0m token_count \u001b[38;5;241m=\u001b[39m \u001b[38;5;241m0\u001b[39m\n",
      "\u001b[0;31mNameError\u001b[0m: name 'return_content' is not defined"
     ]
    }
   ],
   "source": [
    "import tiktoken\n",
    "MODEL = \"gpt-3.5-turbo\"\n",
    "tokenizer = tiktoken.encoding_for_model(MODEL)\n",
    "\n",
    "articles = [return_content(article_similarities[i][1]) for i in range(5)]\n",
    "\n",
    "top_five_similar_articles = {url: dict(content=md, tokens=len(tokenizer.encode(md))) for md, url in articles}\n",
    "\n",
    "token_count = 0\n",
    "articles_up_to_2000_tokens = {}\n",
    "for url, article in top_five_similar_articles.items():\n",
    "    if token_count + article['tokens'] < 2000:\n",
    "        token_count += article['tokens']\n",
    "        articles_up_to_2000_tokens[url] = article\n",
    "    else:\n",
    "        break\n",
    "\n",
    "len(articles_up_to_2000_tokens)"
   ]
  },
  {
   "cell_type": "code",
   "execution_count": 19,
   "metadata": {
    "ExecuteTime": {
     "end_time": "2023-05-15T18:57:31.068592Z",
     "start_time": "2023-05-15T18:57:31.066096Z"
    },
    "collapsed": false
   },
   "outputs": [],
   "source": [
    "md = '\\n\\n'.join([article['content'] for article in articles_up_to_2000_tokens.values()])"
   ]
  },
  {
   "cell_type": "code",
   "execution_count": 20,
   "metadata": {
    "ExecuteTime": {
     "end_time": "2023-05-15T18:57:31.542084Z",
     "start_time": "2023-05-15T18:57:31.538702Z"
    },
    "collapsed": false
   },
   "outputs": [],
   "source": [
    "prompt = '''\n",
    "You are a customer support agent at Wise, the money transfer company. Your job is to answer the customer by using only the info provided here. You will get a customer's question on one line,\n",
    "with the prefix \"CUSTOMER: \"\n",
    "On the rest of the lines, you will get relevant information to answer the question. It starts with the prefix \"CONTEXT: \".\n",
    "Behave like you are the source of the information, while drawing answers only from the info provided. If your are unable to answer the question using the provided context, say 'I don't know'.\n",
    "'''"
   ]
  },
  {
   "cell_type": "code",
   "execution_count": 21,
   "metadata": {
    "ExecuteTime": {
     "end_time": "2023-05-15T18:57:36.584352Z",
     "start_time": "2023-05-15T18:57:31.807016Z"
    },
    "collapsed": false
   },
   "outputs": [
    {
     "data": {
      "text/plain": [
       "'Yes, you can transfer money to a private user of PrivatBank in Ukraine. While Wise can receive money from your business in any supported currency, it can make transfers to private users only. However, Wise cannot make transfers to any businesses in Ukraine.'"
      ]
     },
     "execution_count": 21,
     "metadata": {},
     "output_type": "execute_result"
    }
   ],
   "source": [
    "\n",
    "messages = [{\"role\": \"system\", \"content\": prompt}, {\"role\": \"user\", \"content\": 'CUSTOMER:  \\n' + question}, {\"role\": \"system\", \"content\": 'CONTEXT: \\n' + md},]\n",
    "chat = openai.ChatCompletion.create(\n",
    "    model=MODEL,\n",
    "    messages=messages\n",
    ")\n",
    "reply = chat.choices[0].message.content\n",
    "\n",
    "reply"
   ]
  },
  {
   "cell_type": "code",
   "execution_count": 25,
   "metadata": {
    "ExecuteTime": {
     "end_time": "2023-05-15T23:06:58.877385Z",
     "start_time": "2023-05-15T23:06:58.853171Z"
    },
    "collapsed": false
   },
   "outputs": [
    {
     "data": {
      "text/plain": [
       "[<OpenAIObject at 0x117d1e020> JSON: {\n",
       "   \"finish_reason\": \"stop\",\n",
       "   \"index\": 0,\n",
       "   \"message\": {\n",
       "     \"content\": \"Yes, you can transfer money to a private user of PrivatBank in Ukraine. While Wise can receive money from your business in any supported currency, it can make transfers to private users only. However, Wise cannot make transfers to any businesses in Ukraine.\",\n",
       "     \"role\": \"assistant\"\n",
       "   }\n",
       " }]"
      ]
     },
     "execution_count": 25,
     "metadata": {},
     "output_type": "execute_result"
    }
   ],
   "source": [
    "messages.append({\"role\" : \"assistant\", \"content\": reply})\n",
    "messages.append({\"role\": \"user\", \"content\": 'CUSTOMER:  \\n' + 'How about Turkey?'})\n",
    "\n",
    "chat = openai.ChatCompletion.create(\n",
    "    model=MODEL,\n",
    "    messages=messages\n",
    ")\n",
    "reply = chat.choices[0].message.content\n",
    "\n",
    "reply"
   ]
  },
  {
   "cell_type": "code",
   "execution_count": 1,
   "metadata": {
    "ExecuteTime": {
     "end_time": "2023-05-16T07:46:58.662259Z",
     "start_time": "2023-05-16T07:46:58.651470Z"
    },
    "collapsed": false
   },
   "outputs": [
    {
     "data": {
      "text/plain": [
       "False"
      ]
     },
     "execution_count": 1,
     "metadata": {},
     "output_type": "execute_result"
    }
   ],
   "source": [
    "bool([])"
   ]
  },
  {
   "cell_type": "code",
   "execution_count": null,
   "metadata": {
    "collapsed": false
   },
   "outputs": [],
   "source": []
  }
 ],
 "metadata": {
  "kernelspec": {
   "display_name": "notebooks",
   "language": "python",
   "name": "notebooks"
  },
  "language_info": {
   "codemirror_mode": {
    "name": "ipython",
    "version": 2
   },
   "file_extension": ".py",
   "mimetype": "text/x-python",
   "name": "python",
   "nbconvert_exporter": "python",
   "pygments_lexer": "ipython2",
   "version": "2.7.6"
  }
 },
 "nbformat": 4,
 "nbformat_minor": 0
}
