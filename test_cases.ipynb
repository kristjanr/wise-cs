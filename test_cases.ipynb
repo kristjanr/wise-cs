{
 "cells": [
  {
   "cell_type": "code",
   "execution_count": 1,
   "metadata": {
    "ExecuteTime": {
     "end_time": "2023-06-02T12:24:35.282526Z",
     "start_time": "2023-06-02T12:24:35.273388Z"
    },
    "collapsed": false,
    "jupyter": {
     "outputs_hidden": false
    }
   },
   "outputs": [],
   "source": [
    "\n",
    "prompt = '''\n",
    "Please write three to ten (depending on the amount of information provided) questions and answers based on the text given by the user. The questions should be something a customer of a fintech company would ask from its customer support. The answers should be clear, short and concise and to the point. Return the questions and answers in a json format. Example json:\n",
    "[{\"question\": \"How much money can I transfer to Estonia given the current \\'situation\\' ?\", \"answer\":\"A private person can transfer to one million EUR to an Euro account.\"}]\n",
    "Please note the required \\' \\' around the word situation. These are needed in order to deserialize the JSON correctly later on.\n",
    "Please use only the info provided in the given text to construct a question and answer it.\n",
    "Return each question and answer pair in a json object. Put the json objects into a json list.\n",
    "'''"
   ]
  },
  {
   "cell_type": "code",
   "execution_count": 9,
   "metadata": {
    "ExecuteTime": {
     "end_time": "2023-06-02T16:04:54.013725Z",
     "start_time": "2023-06-02T16:04:19.068684Z"
    },
    "collapsed": false,
    "jupyter": {
     "outputs_hidden": false
    }
   },
   "outputs": [],
   "source": [
    "import time\n",
    "from openai.error import RateLimitError\n",
    "import json\n",
    "import tiktoken\n",
    "MODEL = \"gpt-4\"\n",
    "tokenizer = tiktoken.encoding_for_model(MODEL)\n",
    "import openai\n",
    "openai.api_key = ''\n",
    "\n",
    "\n",
    "with open(\"scraped-data/index.json\", \"r\") as f:\n",
    "    data = json.load(f)\n",
    "\n",
    "counter = 0\n",
    "\n",
    "for section in data:\n",
    "    for subsection in section[\"subsections\"]:\n",
    "        for article in subsection[\"articles\"]:\n",
    "            counter += 1\n",
    "            if article.get('QA') is not None:\n",
    "                continue\n",
    "            print(f'Processing {counter}')\n",
    "            with open(article['folder_path'] + '/content.md', 'r') as f:\n",
    "                article_md = f.read()\n",
    "            items = [section[\"title\"], section[\"heading\"], article_md]\n",
    "            content = '\\n\\n'.join(items)\n",
    "            messages = [{\"role\": \"system\", \"content\": prompt}, {\"role\": \"user\", \"content\": content}]\n",
    "            while True:\n",
    "                try:\n",
    "                    chat = openai.ChatCompletion.create(\n",
    "                        model=MODEL,\n",
    "                        messages=messages\n",
    "                    )\n",
    "                    break\n",
    "                except RateLimitError:\n",
    "                    print('Rate limit error, waiting 10 seconds')\n",
    "                    time.sleep(10)\n",
    "                except Exception as e:\n",
    "                    print(e)\n",
    "                    time.sleep(10)\n",
    "            reply = chat.choices[0].message.content\n",
    "            QA = json.loads(reply)\n",
    "            article['QA'] = QA\n",
    "\n",
    "            with open('scraped-data/index.json', 'w') as f:\n",
    "                json.dump(data, f, indent=2)\n",
    "            print(f'Done {counter}')\n",
    "            time.sleep(1/10)\n",
    "\n"
   ]
  },
  {
   "cell_type": "code",
   "execution_count": 29,
   "metadata": {
    "ExecuteTime": {
     "end_time": "2023-05-31T21:23:28.651037Z",
     "start_time": "2023-05-31T21:23:28.649387Z"
    },
    "collapsed": false,
    "jupyter": {
     "outputs_hidden": false
    }
   },
   "outputs": [
    {
     "data": {
      "text/plain": [
       "{'ada',\n",
       " 'ada-code-search-code',\n",
       " 'ada-code-search-text',\n",
       " 'ada-search-document',\n",
       " 'ada-search-query',\n",
       " 'ada-similarity',\n",
       " 'ada:2020-05-03',\n",
       " 'babbage',\n",
       " 'babbage-code-search-code',\n",
       " 'babbage-code-search-text',\n",
       " 'babbage-search-document',\n",
       " 'babbage-search-query',\n",
       " 'babbage-similarity',\n",
       " 'babbage:2020-05-03',\n",
       " 'code-davinci-edit-001',\n",
       " 'code-search-ada-code-001',\n",
       " 'code-search-ada-text-001',\n",
       " 'code-search-babbage-code-001',\n",
       " 'code-search-babbage-text-001',\n",
       " 'curie',\n",
       " 'curie-instruct-beta',\n",
       " 'curie-search-document',\n",
       " 'curie-search-query',\n",
       " 'curie-similarity',\n",
       " 'curie:2020-05-03',\n",
       " 'cushman:2020-05-03',\n",
       " 'davinci',\n",
       " 'davinci-if:3.0.0',\n",
       " 'davinci-instruct-beta',\n",
       " 'davinci-instruct-beta:2.0.0',\n",
       " 'davinci-search-document',\n",
       " 'davinci-search-query',\n",
       " 'davinci-similarity',\n",
       " 'davinci:2020-05-03',\n",
       " 'gpt-3.5-turbo',\n",
       " 'gpt-3.5-turbo-0301',\n",
       " 'gpt-4',\n",
       " 'gpt-4-0314',\n",
       " 'if-curie-v2',\n",
       " 'if-davinci-v2',\n",
       " 'if-davinci:3.0.0',\n",
       " 'text-ada-001',\n",
       " 'text-ada:001',\n",
       " 'text-babbage-001',\n",
       " 'text-babbage:001',\n",
       " 'text-curie-001',\n",
       " 'text-curie:001',\n",
       " 'text-davinci-001',\n",
       " 'text-davinci-002',\n",
       " 'text-davinci-003',\n",
       " 'text-davinci-edit-001',\n",
       " 'text-davinci:001',\n",
       " 'text-embedding-ada-002',\n",
       " 'text-search-ada-doc-001',\n",
       " 'text-search-ada-query-001',\n",
       " 'text-search-babbage-doc-001',\n",
       " 'text-search-babbage-query-001',\n",
       " 'text-search-curie-doc-001',\n",
       " 'text-search-curie-query-001',\n",
       " 'text-search-davinci-doc-001',\n",
       " 'text-search-davinci-query-001',\n",
       " 'text-similarity-ada-001',\n",
       " 'text-similarity-babbage-001',\n",
       " 'text-similarity-curie-001',\n",
       " 'text-similarity-davinci-001',\n",
       " 'whisper-1'}"
      ]
     },
     "execution_count": 29,
     "metadata": {},
     "output_type": "execute_result"
    }
   ],
   "source": [
    "# iterate over data and create set of ids\n",
    "# example ff['data'][0]['id']\n",
    "\n",
    "set_of_ids = {ff['data'][i]['id'] for i in range(len(ff['data']))}\n",
    "\n",
    "set_of_ids"
   ]
  },
  {
   "cell_type": "code",
   "execution_count": 30,
   "metadata": {
    "ExecuteTime": {
     "end_time": "2023-05-31T21:23:29.629494Z",
     "start_time": "2023-05-31T21:23:29.626938Z"
    },
    "collapsed": false,
    "jupyter": {
     "outputs_hidden": false
    }
   },
   "outputs": [
    {
     "data": {
      "text/plain": [
       "66"
      ]
     },
     "execution_count": 30,
     "metadata": {},
     "output_type": "execute_result"
    }
   ],
   "source": [
    "len(set_of_ids)"
   ]
  },
  {
   "cell_type": "code",
   "execution_count": 2,
   "metadata": {
    "ExecuteTime": {
     "end_time": "2023-06-25T13:31:45.486162Z",
     "start_time": "2023-06-25T13:31:45.483029Z"
    },
    "collapsed": false,
    "jupyter": {
     "outputs_hidden": false
    }
   },
   "outputs": [],
   "source": []
  },
  {
   "cell_type": "code",
   "execution_count": 13,
   "metadata": {
    "ExecuteTime": {
     "end_time": "2023-06-25T13:36:12.217549Z",
     "start_time": "2023-06-25T13:36:12.214811Z"
    },
    "collapsed": false
   },
   "outputs": [],
   "source": []
  },
  {
   "cell_type": "code",
   "execution_count": 14,
   "metadata": {
    "ExecuteTime": {
     "end_time": "2023-06-25T13:36:12.803222Z",
     "start_time": "2023-06-25T13:36:12.793963Z"
    },
    "collapsed": false
   },
   "outputs": [],
   "source": []
  },
  {
   "cell_type": "code",
   "execution_count": null,
   "metadata": {
    "collapsed": false
   },
   "outputs": [],
   "source": []
  }
 ],
 "metadata": {
  "kernelspec": {
   "display_name": "notebooks",
   "language": "python",
   "name": "notebooks"
  },
  "language_info": {
   "codemirror_mode": {
    "name": "ipython",
    "version": 3
   },
   "file_extension": ".py",
   "mimetype": "text/x-python",
   "name": "python",
   "nbconvert_exporter": "python",
   "pygments_lexer": "ipython3",
   "version": "3.10.9"
  }
 },
 "nbformat": 4,
 "nbformat_minor": 4
}
